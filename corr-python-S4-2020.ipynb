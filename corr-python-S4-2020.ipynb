{
 "cells": [
  {
   "cell_type": "markdown",
   "metadata": {},
   "source": [
    "# Suite de Fibonacci\n",
    "Écrire un programme qui **affiche** les termes de la suite de Fibonacci inférieurs à 350000 càd 0,1,1,2,3,5,8, ... ,317811"
   ]
  },
  {
   "cell_type": "code",
   "execution_count": null,
   "metadata": {},
   "outputs": [],
   "source": [
    "# Algorithme iteratif\n",
    "u = 0\n",
    "v = 1\n",
    "while v < 350000:\n",
    "    print(v)\n",
    "    u,v = v,u+v"
   ]
  },
  {
   "cell_type": "code",
   "execution_count": null,
   "metadata": {},
   "outputs": [],
   "source": [
    "# Algorithme recursif pour calculer le n-eme terme de la suite, et un boucle while pour afficher\n",
    "def fibo(n):\n",
    "    if n == 0:\n",
    "        fn = 0\n",
    "    elif n == 1:\n",
    "        fn = 1\n",
    "    elif n>1:\n",
    "        fn = fibo(n-1)+fibo(n-2)\n",
    "    return fn\n",
    "i = 0\n",
    "f = fibo(i)\n",
    "while f<350000:\n",
    "    print(fibo(i))\n",
    "    i = i+1\n",
    "    f = fibo(i)"
   ]
  },
  {
   "cell_type": "markdown",
   "metadata": {},
   "source": [
    "# Norme L_2\n",
    "Ecrire une fonction `norme2(x,y)` pour calculer la norme $\\Vert (x,y)\\Vert_2 = \\sqrt{x^2+y^2}$. Tester avec `(x,y)=(6,8)`\n"
   ]
  },
  {
   "cell_type": "code",
   "execution_count": null,
   "metadata": {},
   "outputs": [],
   "source": [
    "import math\n",
    "def norme2(x,y):\n",
    "    return math.sqrt(x**2+y**2)\n",
    "norme2(6,8)"
   ]
  },
  {
   "cell_type": "markdown",
   "metadata": {},
   "source": [
    "# Graphique\n",
    "Faire le graphique de $y=\\sin{\\frac{1}{x}}$ avec $0<\\epsilon \\leq x<5 $, $\\epsilon$ petit"
   ]
  },
  {
   "cell_type": "code",
   "execution_count": null,
   "metadata": {},
   "outputs": [],
   "source": [
    "import numpy as np\n",
    "import matplotlib.pyplot as plt\n",
    "X = np.linspace(0.000001,5,1000000)\n",
    "Y = np.sin(1/X)\n",
    "plt.plot(X,Y)\n",
    "plt.show()"
   ]
  },
  {
   "cell_type": "markdown",
   "metadata": {},
   "source": [
    "# Inversions \n",
    "Dans un tableau $L$, une inversion est un couple $(i,j)$ tel que $i<j$ et $L[i] > L[j]$.\n",
    "Faire un programme `inversions` pour compter le nombre d'inversion dans un tableau $L$. Exemples:\n",
    "* `inversions([1,2,3,4])` renvoye 0 \n",
    "* `inversions([4,3,2,1])` renvoye 6 \n",
    "* `inversions([2,1,3,4])` renvoye 1 "
   ]
  },
  {
   "cell_type": "code",
   "execution_count": null,
   "metadata": {},
   "outputs": [],
   "source": [
    "def inversions(L):\n",
    "    i = 0 \n",
    "    n = len(L)\n",
    "    inv = 0\n",
    "    for i in range (0,n-1):\n",
    "        for j in range (i+1,n):\n",
    "            if L[i] > L[j]:\n",
    "                inv += 1\n",
    "    return inv\n",
    "L0 = [1,2,3,4]\n",
    "L1 = [4,3,2,1]\n",
    "L2 = [2,1,3,4]\n",
    "print(L0, ' comporte ', inversions(L0), 'inversions')\n",
    "print(L1, ' comporte ', inversions(L1), 'inversions')\n",
    "print(L2, ' comporte ', inversions(L2), 'inversions')"
   ]
  },
  {
   "cell_type": "code",
   "execution_count": null,
   "metadata": {},
   "outputs": [],
   "source": []
  }
 ],
 "metadata": {
  "kernelspec": {
   "display_name": "Python 3",
   "language": "python",
   "name": "python3"
  },
  "language_info": {
   "codemirror_mode": {
    "name": "ipython",
    "version": 3
   },
   "file_extension": ".py",
   "mimetype": "text/x-python",
   "name": "python",
   "nbconvert_exporter": "python",
   "pygments_lexer": "ipython3",
   "version": "3.7.3"
  }
 },
 "nbformat": 4,
 "nbformat_minor": 2
}
