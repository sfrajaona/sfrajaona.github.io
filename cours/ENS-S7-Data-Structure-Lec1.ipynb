{
 "cells": [
  {
   "cell_type": "markdown",
   "metadata": {},
   "source": [
    "## Get help in Python (_Trouver de l'aide_)\n",
    "\n",
    "### Read the documentation (_Lire la documentation_)\n",
    "**EXERCISE** Find the module (magnitude) of the complex number `17+121j` \n",
    "\n",
    "(Indication: python-3.6.5-docs-html -> tutorial -> Bult-in Types.)\n",
    "\n",
    "### Use the `help` function (_Utiliser la fonction `help`_)\n",
    "\n",
    "help(math)\n",
    "\n",
    "help(complex)\n",
    "\n",
    "### Use the `dir` function (_Utiliser la fonction `dir`_)"
   ]
  },
  {
   "cell_type": "markdown",
   "metadata": {},
   "source": [
    "## Control structures (_Les structures de contrôle_)"
   ]
  },
  {
   "cell_type": "markdown",
   "metadata": {},
   "source": [
    "### `if` conditions"
   ]
  },
  {
   "cell_type": "code",
   "execution_count": null,
   "metadata": {},
   "outputs": [],
   "source": [
    "from math import *\n",
    "def square_root(x):\n",
    "    if x<0:\n",
    "       print(\"Sorry, value is negative\")\n",
    "    else:\n",
    "       print(math.sqrt(x))\n",
    "square_root(2)"
   ]
  },
  {
   "cell_type": "code",
   "execution_count": null,
   "metadata": {},
   "outputs": [],
   "source": [
    "def mention(note):\n",
    "    if note >= 18:\n",
    "       return 'Excellent' \n",
    "    elif note >=16:\n",
    "       return 'Très bien'\n",
    "    elif note >= 14:\n",
    "       return 'Bien'\n",
    "    elif note >= 12:\n",
    "       return 'Assez-bien'\n",
    "    else:\n",
    "       return 'Non-admis'\n",
    "print(mention(12))"
   ]
  },
  {
   "cell_type": "markdown",
   "metadata": {},
   "source": [
    "**EXCERCISE** Define in Python the function \n",
    "$$ f(x)=\\left\\lbrace\\begin{array}{cl}\\frac{x}{2} &\\quad{\\text{si $x\\geq 0$ est pair} } \\\\3x &\\quad{\\text{si $x< 0$} }\\end{array}\\right.$$"
   ]
  },
  {
   "cell_type": "markdown",
   "metadata": {},
   "source": [
    "### `while` loop\n",
    "**EXERCISE** Écrire un programme qui affiche les carrées parfaites inférieures à 1000"
   ]
  },
  {
   "cell_type": "code",
   "execution_count": null,
   "metadata": {},
   "outputs": [],
   "source": [
    "x = 0\n",
    "caree = x*x\n",
    "while caree<=1000:\n",
    "    print(caree)\n",
    "    x+=1\n",
    "    caree = x*x "
   ]
  },
  {
   "cell_type": "markdown",
   "metadata": {},
   "source": [
    "### `for` loops (*Boucle* `for`) \n",
    "\n",
    "Example : calculate  $$\\sum_{i=0}^{10}i$$"
   ]
  },
  {
   "cell_type": "code",
   "execution_count": null,
   "metadata": {},
   "outputs": [],
   "source": [
    "total = 0\n",
    "for i in range(11): # range(n) takes 0, 1, 2, ..., n-1\n",
    "    total = total + i\n",
    "total"
   ]
  },
  {
   "cell_type": "markdown",
   "metadata": {},
   "source": [
    "**EXERCISE** Write a function `sum(n)` that calculates the sum \n",
    "\n",
    "$$\\sum_{i=0}^{n}i=1+2+3+\\ldots+n$$"
   ]
  },
  {
   "cell_type": "markdown",
   "metadata": {},
   "source": [
    "**EXERCISE**  \n",
    "* What should you get with the following code? Run the program.\n",
    "* (Qu'est ce que vous pensez obtenir par le programme suivant ? Executez-le.)"
   ]
  },
  {
   "cell_type": "code",
   "execution_count": 1,
   "metadata": {
    "scrolled": true
   },
   "outputs": [
    {
     "name": "stdout",
     "output_type": "stream",
     "text": [
      "0.9999999999999999\n"
     ]
    }
   ],
   "source": [
    "x = 0.0\n",
    "for i in range(10):\n",
    "    x = x + 0.1\n",
    "print(x)"
   ]
  },
  {
   "cell_type": "markdown",
   "metadata": {},
   "source": [
    "## Python Datatypes (Types-de-données python)\n",
    "\n",
    "### Variables, objects, types\n",
    "\n",
    "* Les variables python stocke des données (objets).\n",
    "* Tout objet possède un **type**\n",
    "* `type(x)` renvoye le type de `x`\n",
    "\n",
    "**Exercise** Trouver le type de chacun des variables suivants"
   ]
  },
  {
   "cell_type": "code",
   "execution_count": 21,
   "metadata": {},
   "outputs": [],
   "source": [
    "import math\n",
    "isa_volamena = (1+(math.sqrt(5)))/2\n",
    "z = '1+5j'\n",
    "id = '0489'\n",
    "coord = (12,45)\n",
    "sakafo = ['poulet', 'saucisse', 'aubergine']"
   ]
  },
  {
   "cell_type": "markdown",
   "metadata": {},
   "source": [
    "### Dynamic typing\n",
    "* **Python est un langage typé dynamique** _le type d'un variable est changé lorsque vous faites une REaffectation_"
   ]
  },
  {
   "cell_type": "code",
   "execution_count": 11,
   "metadata": {},
   "outputs": [
    {
     "name": "stdout",
     "output_type": "stream",
     "text": [
      "<class 'str'>\n",
      "<class 'list'>\n",
      "<class 'int'>\n"
     ]
    }
   ],
   "source": [
    "repas = 'banana'\n",
    "print(type(repas))\n",
    "repas = ['poulet', 'saucisse', 'aubergine']\n",
    "print(type(repas))\n",
    "repas = 0\n",
    "print(type(repas))"
   ]
  },
  {
   "cell_type": "markdown",
   "metadata": {},
   "source": [
    "### Python basic types (_Les types de base Python_)\n",
    "\n",
    "- **`float`**\n",
    "- **`int`**\n",
    "- **`complex`**\n",
    "- **`bool`** (boolean): `True`; `False`\n",
    "\n",
    "\n",
    "- **`NoneType`** (absence of a value): `None`\n",
    "\n",
    "### Python sequential datatypes (_Les structures de données sequentielles_)\n",
    "- **`str`** (string): \n",
    "```python\n",
    "'abracadabra'; \"obaraji obaraja\"; \"\"\"kti'kta'kdoo\"\"\"\n",
    "```\n",
    "- **`list`**: \n",
    "```python\n",
    "[2,4,6,0,3]; ['Tsiranana', 'Zafy', 'Ratsiraka', 'Ravalomanana', 'Rajaonarimampianina', \"Rajoelina\"]\n",
    "```\n",
    "- **`tuple`** (couples, triples, n-uples): \n",
    "```python\n",
    "('Rajoelina','Mialy'); (x,y,z) \n",
    "```\n",
    "- **`set`** (set): \n",
    "```python\n",
    "{3,4,5,3} = {3,4,5}; {('Tsiranana','Justine'),('Ratsiraka','Céline'),('Ravalomanana','Lalao')}\n",
    "```\n",
    "- **`dictionary`** : \n",
    "```python\n",
    "{'name':'Ratsiraka','first_name':'Didier', 'middle_name':'Ignace', 'nickname':'Deba', 'year_of_birth':1936}\n",
    "```\n"
   ]
  },
  {
   "cell_type": "markdown",
   "metadata": {},
   "source": [
    "## Les Listes (un type de donnée très utilisé)\n",
    "### list may contain objects of various types, adjustable length (__une liste peut contenir des objets de différents types, et la longueur d'une liste peut être modifiée__)\n",
    "```python\n",
    "list_of_contacts = [\"anja@ens.mg\",\"bao@ens.mg\"]\n",
    "list_of_contacts.append(\"dera@ens.mg\")\n",
    "print(list_of_contacts)\n",
    "```\n",
    "### Getting elements and sublists from a list\n",
    "```python\n",
    "days = [ 'monday', 'tuesday' , 'wednesday', 'thursday', 'friday']\n",
    "weekend = ['saturday', 'sunday']\n",
    "print(days+weekend)   # list concatenation\n",
    "print (days[0])       # Prints first element \n",
    "print (days[2])       # Prints third element\n",
    "\n",
    "print (days)          # Prints complete list\n",
    "print (days[1:3])     # Prints elements starting from 2nd till 3rd \n",
    "print (days[2:])      # Prints elements starting from 3rd element\n",
    "```\n",
    "\n",
    "### List comprehension\n",
    "You can write list comprehension like set comprehension in Mathematics\n",
    "$$ L = \\{1,2,3,4,5\\}$$\n",
    "$$ L_2 = \\{x^2 | x\\in A\\}$$\n",
    "\n"
   ]
  },
  {
   "cell_type": "markdown",
   "metadata": {},
   "source": [
    "### Exercise\n",
    "**EXERCISE** _(List of lists)_ In python you can define a list of lists\n",
    "```python\n",
    "days=[['monday',1],['tuesday',2],['wednesday',3],['thursday',4],['beerday',5],['sunday',0]]\n",
    "```\n",
    "What is `days[2][0]`?\n",
    "\n",
    "**EXERCISE** _(Operations on a list)_\n",
    "The command `dir()` get all the methods that can be applied to an objects. Evaluate `dir(days)` to find what methods can be applied to a list.\n",
    "\n",
    "**EXERCISE** Correct the list `days` by removing the incorrect days and adding the missing days. (_Corriger la liste `days`_).\n",
    "\n"
   ]
  },
  {
   "cell_type": "markdown",
   "metadata": {},
   "source": [
    "## Classes and instantiation: Defining your own datatype (_Définir votre propre type-de-donnees_)"
   ]
  },
  {
   "cell_type": "markdown",
   "metadata": {},
   "source": [
    "### CLASSES"
   ]
  },
  {
   "cell_type": "code",
   "execution_count": 27,
   "metadata": {},
   "outputs": [],
   "source": [
    "class Stack:\n",
    "    \"\"\"Implémentation d'une pile (stack) utilisant le type list de Python, avec push <-> append\"\"\"\n",
    "    def __init__(self):\n",
    "       self.items = []\n",
    "    def is_empty(self):\n",
    "       return self.items == []\n",
    "    def push(self, item):\n",
    "       self.items.append(item)\n",
    "    def pop(self):\n",
    "       return self.items.pop()\n",
    "    def top(self):\n",
    "       return self.items[-1]\n",
    "    def size(self):\n",
    "       return len(self.items)"
   ]
  },
  {
   "cell_type": "code",
   "execution_count": 26,
   "metadata": {},
   "outputs": [
    {
     "data": {
      "text/plain": [
       "'z'"
      ]
     },
     "execution_count": 26,
     "metadata": {},
     "output_type": "execute_result"
    }
   ],
   "source": [
    "m = Stack()\n",
    "m.push('x')\n",
    "m.push('y')\n",
    "m.pop()\n",
    "m.push('z')\n",
    "m.top()"
   ]
  },
  {
   "cell_type": "markdown",
   "metadata": {},
   "source": [
    "### Instantiation\n",
    "\n",
    "|Fonction (*function*)|Classe (*class*)|\n",
    "| ---------------- | ---------------- |\n",
    "|**Définition d'une fonction** : | **Définition d'une classe**|\n",
    "|`def maximum(x,y):`| `class stack:`|\n",
    "|`...`|`...`|\n",
    "|**Appel à la fonction** : | **Instantiation (création d'une instance)** :|\n",
    "|`absa = maximum(a,-a)`|`mes_livres = stack()`|\n",
    "\n",
    "\n",
    "\n",
    "\n",
    "`mes_livres = stack()` creates a new stack `mes_livres`\n",
    "#### What is self?\n"
   ]
  },
  {
   "cell_type": "markdown",
   "metadata": {},
   "source": [
    "## EXERCISES\n",
    "\n",
    "### Piles et Files\n",
    "\n",
    "* **EXERCICE** Implémenter la fonction parenthese_balance avec Python (Groupe 1)\n",
    "* **EXERCISE** Créer une classe `queue` avec Python\n"
   ]
  },
  {
   "cell_type": "markdown",
   "metadata": {},
   "source": [
    "### Liste enchaînée 1\n",
    "* **EXERCISE** Compéter la liste des présidents suivante utilisant la classe Node"
   ]
  },
  {
   "cell_type": "code",
   "execution_count": 1,
   "metadata": {},
   "outputs": [],
   "source": [
    "class Node:\n",
    "    def __init__(self, init_data):\n",
    "        self.data = init_data\n",
    "        self.next = None\n",
    "\n",
    "ratsiraka = Node('Ratsiraka')\n",
    "ravalo = Node('Ravalomanana')"
   ]
  },
  {
   "cell_type": "markdown",
   "metadata": {},
   "source": [
    "### Liste enchaînée 2\n",
    "\n",
    "**EXERCISE** Completer un type-de-donnée `LinkedList` comprenant les operations (Groupe 2)\n",
    "\n",
    "* List() ou LinkedList() : $LinkedList$\n",
    "* add(element) : $LinkedList \\times Element \\rightarrow LinkedList$, ajoute l'element au debut de la liste s'il n'est pas encore dans la liste\n",
    "* remove(element) : $LinkedList \\times Element \\rightarrow LinkedList$, enleve l'element s'il est dans la liste\n",
    "* search(element) : $LinkedList \\times Element \\rightarrow \\mathbb{B}$\n",
    "* is_empty() $LinkedList \\rightarrow \\mathbb{B}$.\n",
    "* size() $LinkedList \\rightarrow \\mathbb{N}$.\n",
    "\n",
    "Utiliser la classe Node."
   ]
  },
  {
   "cell_type": "code",
   "execution_count": 42,
   "metadata": {},
   "outputs": [],
   "source": [
    "class LinkedList:\n",
    "    def __init__(self):\n",
    "        self.head = None\n",
    "    def is_empty(self):\n",
    "        return self.head == None\n",
    "    def add(self, element):\n",
    "        \"\"\"\n",
    "        ajoute l'element au debut de la liste, cette fonction doit etre modifiee \n",
    "        pour verifier si l'element est deja dans la liste\n",
    "        \"\"\"\n",
    "        temp = Node(element)\n",
    "        temp.next = self.head\n",
    "        self.head = temp"
   ]
  },
  {
   "cell_type": "markdown",
   "metadata": {},
   "source": [
    "### Arbre Binaire \n",
    "#### Implémenter un arbre binaire avec des pointeurs\n",
    "**Exercice** Modifier la classe `Node` précédente pour le cas d'un arbre Binaire et définir une classe `BinaryTree` (Groupe 3)"
   ]
  },
  {
   "cell_type": "markdown",
   "metadata": {},
   "source": [
    "#### Implémenter un arbre binaire avec une liste de listes (Groupe 4)\n",
    "**Example**\n",
    "```python\n",
    "family_tree = ['dadabe', ['dada', ['zokylahy',['zanadralahy'],[]], ['zaho',[],[]] ], ['dadatoa',\n",
    "   ['cousine',['zanakanabavy'],[]], []] ]\n",
    "```\n",
    "**EXERCISE** Compléter\n",
    "```python\n",
    "def binary_tree(root):\n",
    "    return [root, [], []]\n",
    "def insert_right(root, branch):\n",
    "def insert_left(root,branch):\n",
    "def get_root_value(root):\n",
    "```"
   ]
  },
  {
   "cell_type": "code",
   "execution_count": null,
   "metadata": {},
   "outputs": [],
   "source": []
  }
 ],
 "metadata": {
  "kernelspec": {
   "display_name": "Python 3",
   "language": "python",
   "name": "python3"
  },
  "language_info": {
   "codemirror_mode": {
    "name": "ipython",
    "version": 3
   },
   "file_extension": ".py",
   "mimetype": "text/x-python",
   "name": "python",
   "nbconvert_exporter": "python",
   "pygments_lexer": "ipython3",
   "version": "3.7.0"
  },
  "latex_envs": {
   "LaTeX_envs_menu_present": true,
   "autoclose": false,
   "autocomplete": true,
   "bibliofile": "biblio.bib",
   "cite_by": "apalike",
   "current_citInitial": 1,
   "eqLabelWithNumbers": true,
   "eqNumInitial": 1,
   "hotkeys": {
    "equation": "Ctrl-E",
    "itemize": "Ctrl-I"
   },
   "labels_anchors": false,
   "latex_user_defs": false,
   "report_style_numbering": false,
   "user_envs_cfg": false
  },
  "toc": {
   "base_numbering": 1,
   "nav_menu": {},
   "number_sections": true,
   "sideBar": true,
   "skip_h1_title": false,
   "title_cell": "Table of Contents",
   "title_sidebar": "Contents",
   "toc_cell": false,
   "toc_position": {},
   "toc_section_display": true,
   "toc_window_display": false
  }
 },
 "nbformat": 4,
 "nbformat_minor": 2
}
