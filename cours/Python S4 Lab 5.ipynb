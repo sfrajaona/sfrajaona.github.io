{
 "cells": [
  {
   "cell_type": "markdown",
   "metadata": {},
   "source": [
    "# Libraries (bibliothèques)\n",
    "**Rappel** Pour pouvoir utiliser le nombre $\\pi$ ou les fonctions $\\ln, \\exp$, on doit importer la bibliothèque `math` avec\n",
    "```python\n",
    "import math\n",
    "rayon = 4\n",
    "surface = 2*r*r*math.pi\n",
    "```\n",
    "ou\n",
    "```python\n",
    "from math import pi\n",
    "rayon = 4\n",
    "surface = 2*r*r*pi\n",
    "```"
   ]
  },
  {
   "cell_type": "markdown",
   "metadata": {},
   "source": [
    "Une bibliothèque comporte des fonctions et des constantes developpées par d'autres programmeursqu'on peut utiliser (importer) dans nos programmes."
   ]
  },
  {
   "cell_type": "markdown",
   "metadata": {},
   "source": [
    "## Bibliothèque turtle"
   ]
  },
  {
   "cell_type": "markdown",
   "metadata": {},
   "source": [
    "**Exemple** "
   ]
  },
  {
   "cell_type": "code",
   "execution_count": 9,
   "metadata": {},
   "outputs": [],
   "source": [
    "import turtle\n",
    "import math\n",
    "\"\"\"Dessin d'une spirale avec le module turtle\"\"\"\n",
    "turtle.right(180)\n",
    "i,j=0,0\n",
    "while(i<5):\n",
    "    while(j<60*i):\n",
    "        turtle.right(6)\n",
    "        turtle.forward((2*math.pi*j*6)/360)\n",
    "        j=j+1\n",
    "    i=i+1"
   ]
  },
  {
   "cell_type": "markdown",
   "metadata": {},
   "source": [
    "**Exercice** Rechercher en ligne quelles bibliothèques Python sont spécialisées dans\n",
    "* le calcul numérique \n",
    "* les graphiques\n",
    "* le calcul symbolique (résoudre des équations mathématiques de manière exacte)"
   ]
  },
  {
   "cell_type": "markdown",
   "metadata": {},
   "source": [
    "**Exercice** Ecrire un programme qui demande à l'utilisateur d'entrer un entier `n` (nombre de cotes) et dessine un polygone à `n` cotés"
   ]
  },
  {
   "cell_type": "markdown",
   "metadata": {},
   "source": [
    "**Exercice** Faire une recherche sur la bibliothèque `matplotlib` et dessiner une hyperboloïde"
   ]
  },
  {
   "cell_type": "markdown",
   "metadata": {},
   "source": [
    "**Exercice** Faire une recherche sur la bibliothèque `tkinter` et construire une fenêtre interactive"
   ]
  },
  {
   "cell_type": "code",
   "execution_count": null,
   "metadata": {},
   "outputs": [],
   "source": []
  }
 ],
 "metadata": {
  "kernelspec": {
   "display_name": "Python 3",
   "language": "python",
   "name": "python3"
  },
  "language_info": {
   "codemirror_mode": {
    "name": "ipython",
    "version": 3
   },
   "file_extension": ".py",
   "mimetype": "text/x-python",
   "name": "python",
   "nbconvert_exporter": "python",
   "pygments_lexer": "ipython3",
   "version": "3.7.3"
  }
 },
 "nbformat": 4,
 "nbformat_minor": 2
}
