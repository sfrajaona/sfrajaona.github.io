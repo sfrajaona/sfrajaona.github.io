{
 "cells": [
  {
   "cell_type": "markdown",
   "metadata": {},
   "source": [
    "**Problème 1** La procédure `resoudre1` suivante résoud une équation du premier degré $ax+b = 0$ mais elle comporte des erreurs. Corriger les erreurs et faites des tests pour $(a, b)  = (0, 1)$ et  $(0,0)$ et $(4,5)$."
   ]
  },
  {
   "cell_type": "code",
   "execution_count": null,
   "metadata": {},
   "outputs": [],
   "source": [
    "def resoudre1(a,b):\n",
    "    if a == 0 and b == 0 :\n",
    "        print(\"on a une infinité de solutions\")\n",
    "    elif a == 0 and b != 0 :\n",
    "        print(\"aucune solution\")\n",
    "    else:\n",
    "        x = b/a\n",
    "    print(\"on a une unique solution x = \", x)\n"
   ]
  },
  {
   "cell_type": "markdown",
   "metadata": {},
   "source": [
    "**Problème 2** La fonction `degre_en_rad` suivante convertit un angle en degré en radians. Ensuite on fait un test avec $\\theta = 60^{\\circ}$. Completer le code."
   ]
  },
  {
   "cell_type": "code",
   "execution_count": null,
   "metadata": {},
   "outputs": [],
   "source": [
    "def degre_en_rad(theta):\n",
    "    theta_rad = (pi/180)*theta\n",
    "    return theta_rad\n",
    "\n",
    "degre_en_rad(60) # test"
   ]
  },
  {
   "cell_type": "markdown",
   "metadata": {},
   "source": [
    "**Problème 3** Écrire les carrés parfaits inférieur ou égale à 10000 càd 1,4,9,16,...,10000"
   ]
  },
  {
   "cell_type": "code",
   "execution_count": null,
   "metadata": {},
   "outputs": [],
   "source": [
    "# Votre code pour les carrés parfaits\n"
   ]
  }
 ],
 "metadata": {
  "kernelspec": {
   "display_name": "Python 3",
   "language": "python",
   "name": "python3"
  },
  "language_info": {
   "codemirror_mode": {
    "name": "ipython",
    "version": 3
   },
   "file_extension": ".py",
   "mimetype": "text/x-python",
   "name": "python",
   "nbconvert_exporter": "python",
   "pygments_lexer": "ipython3",
   "version": "3.7.3"
  }
 },
 "nbformat": 4,
 "nbformat_minor": 2
}
