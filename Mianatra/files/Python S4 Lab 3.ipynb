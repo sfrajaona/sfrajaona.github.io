{
 "cells": [
  {
   "cell_type": "markdown",
   "metadata": {},
   "source": [
    "# Itérations (boucles `for` et `while`) et recursions (f(f(f())))"
   ]
  },
  {
   "cell_type": "markdown",
   "metadata": {},
   "source": [
    "**Exercice 1** \n",
    "Ecrire une fonction `diviseurs_a(n)` qui **affiche tous les diviseurs** d'un entier `n`, avec 1, mais sans `n`.\n",
    "\n",
    "(Indication: si `b` divise `a` alors `a % b == 0`)"
   ]
  },
  {
   "cell_type": "code",
   "execution_count": null,
   "metadata": {},
   "outputs": [],
   "source": [
    "# Écrire votre fonction diviseurs_a ici\n"
   ]
  },
  {
   "cell_type": "markdown",
   "metadata": {},
   "source": [
    "**Exercice 2** \n",
    "Ecrire une fonction `diviseurs(n)` qui **renvoye une liste de tous les diviseurs** d'un entier `n`, avec 1, mais sans `n`."
   ]
  },
  {
   "cell_type": "code",
   "execution_count": null,
   "metadata": {},
   "outputs": [],
   "source": [
    "# Écrire votre fonction diviseurs ici\n"
   ]
  },
  {
   "cell_type": "markdown",
   "metadata": {},
   "source": [
    "**Exercice 3**\n",
    "Un nombre parfait est un nombre qui est égal à la somme de tous ses diviseurs.\n",
    "Par exemple 6 = 1 + 2 + 3. Utiliser la fonction précédente pour trouver les nombres\n",
    "parfaits < 10000"
   ]
  },
  {
   "cell_type": "code",
   "execution_count": null,
   "metadata": {},
   "outputs": [],
   "source": [
    "# Écrire votre code pour trouver les nombres parfaits ici\n"
   ]
  },
  {
   "cell_type": "markdown",
   "metadata": {},
   "source": [
    "**Exercice 4** Donner une expression de $\\pi$ en utilisant la formule de Leibniz\n",
    "$$ \\pi = \\frac{4}{1} - \\frac{4}{3} + \\frac{4}{5} - \\frac{4}{7} + \\frac{4}{9} - \\cdots  = \n",
    "    4 \\sum_0^{\\infty} \\frac{(-1)^n}{1+2n}$$\n",
    "    Définir une fonction `mon_pi(n)` qui renvoye l'expression de $\\pi$ au `n`-ième terme. Tester avec quelques valeurs de `n`."
   ]
  },
  {
   "cell_type": "code",
   "execution_count": null,
   "metadata": {},
   "outputs": [],
   "source": [
    "# Écrire votre fonction mon_pi(n) ici\n"
   ]
  },
  {
   "cell_type": "markdown",
   "metadata": {},
   "source": [
    "**Exercice 5** Définir une **fonction iterative** `compte_pair` qui compte le nombre d'entiers pair dans une liste L\n",
    "Exemples\n",
    "* `compte_pair([2,2,6,7])` renvoye 3\n",
    "* `compte_pair([1,54,2,9,6,5,23,2])` renvoye 4"
   ]
  },
  {
   "cell_type": "code",
   "execution_count": 3,
   "metadata": {},
   "outputs": [],
   "source": [
    "# Votre fonction compte_pair ici"
   ]
  },
  {
   "cell_type": "markdown",
   "metadata": {},
   "source": [
    "**Exercice 6** Définir une **fonction recursive** `compte_pair_r` qui compte le nombre d'entiers pairs dans une liste L"
   ]
  },
  {
   "cell_type": "code",
   "execution_count": 5,
   "metadata": {},
   "outputs": [],
   "source": [
    "# Votre fonction compte_pair_r ici"
   ]
  },
  {
   "cell_type": "markdown",
   "metadata": {},
   "source": [
    "**Exercice 7**\n",
    "Écrire une fonction `est_pal` qui teste si un str (une chaîne de caractères) \n",
    "est un palyndrôme (un palyndrôme est un mot qui se lit de la même façon de gauche à droite ou de droite à gauche).\n",
    "Exemples\n",
    "* `est_pal(\"kayak\")` renvoye `True`\n",
    "* `est_pal(\"madam\")` renvoye `True`\n",
    "* `est_pal(\"monsieur\")`renvoye `False`\n",
    "\n",
    "Indication: utiliser des indices avec les str, comme avec des listes. Vous pouvez faire une iteration ou recursion.\n",
    "\n",
    "si `mot==\"bolopixx\"` alors `mot[0]` donne `'b'` et `mot[-1]` donne `'x'`"
   ]
  },
  {
   "cell_type": "code",
   "execution_count": 6,
   "metadata": {},
   "outputs": [],
   "source": [
    "# Votre fonction est_pal ici"
   ]
  },
  {
   "cell_type": "markdown",
   "metadata": {},
   "source": [
    "# Problèmes avec des strings (chaînes de caractères)"
   ]
  },
  {
   "cell_type": "markdown",
   "metadata": {},
   "source": [
    "**Problème 1**\n",
    "Ecrire une fonction `dernier_mot` qui renvoye le dernier mot (dans l'ordre alphabetique) contenu dans une chaine de caracteres. Exemples\n",
    "* `dernier_mot(\"bolopixx\")` renvoye `xx`\n",
    "* `dernier_mot(\"tsimbazaza\")` renvoye `zaza`\n",
    "* `dernier_mot(\"zinedinezidane\")` renvoye `zinedinezidane`"
   ]
  },
  {
   "cell_type": "markdown",
   "metadata": {},
   "source": [
    "**Problème 2**\n",
    "\n",
    "La distance de Hamming entre deux chaînes de charactère de même longueur \n",
    "est le nombre de positions où les charactères des deux chaînes sont differentes.\n",
    "Exemples\n",
    "* `Hamming(\"fjkm\",\"fpvm\")` renvoye 2. \n",
    "* `Hamming(\"ekar\",\"fjkm\")` renvoye 4.\n",
    "* `Hamming(\"ekar\",\"ekar\")` renvoye 0.\n",
    "* `Hamming(\"flm\",\"ekar\")` renvoye None.\n",
    "\n",
    "Écrire une fonction `Hamming(s,t)`\n",
    "\n"
   ]
  }
 ],
 "metadata": {
  "kernelspec": {
   "display_name": "Python 3",
   "language": "python",
   "name": "python3"
  },
  "language_info": {
   "codemirror_mode": {
    "name": "ipython",
    "version": 3
   },
   "file_extension": ".py",
   "mimetype": "text/x-python",
   "name": "python",
   "nbconvert_exporter": "python",
   "pygments_lexer": "ipython3",
   "version": "3.7.3"
  }
 },
 "nbformat": 4,
 "nbformat_minor": 2
}
