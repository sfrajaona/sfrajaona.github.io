{
 "cells": [
  {
   "cell_type": "markdown",
   "metadata": {},
   "source": [
    "# Rappels"
   ]
  },
  {
   "cell_type": "markdown",
   "metadata": {},
   "source": [
    "## Quelques différences entre Python et C\n",
    "### Python est un langage typé dynamique"
   ]
  },
  {
   "cell_type": "code",
   "execution_count": 1,
   "metadata": {},
   "outputs": [],
   "source": [
    "x = 25  # dans C on a besoin de declarer le type de x, par exemple int x\n",
    "x = \"rakoto frah 25\" # dans Python on peut changer le type: type dynamique"
   ]
  },
  {
   "cell_type": "code",
   "execution_count": 4,
   "metadata": {},
   "outputs": [],
   "source": [
    "rakoto_frah = \"rakoto francois\" # on utilise les tiret bas pour des variables longs\n",
    "feo_gasy = rakoto_frah"
   ]
  },
  {
   "cell_type": "markdown",
   "metadata": {},
   "source": [
    "## Types de données\n",
    "- En programmation, les types mathématiques sont représentés par des sous ensembles\n",
    "- float est un sous ensemble des réels\n",
    "- int sous ensemble des entiers"
   ]
  },
  {
   "cell_type": "markdown",
   "metadata": {},
   "source": [
    "Les types int, float, bool, char sont appeles types de base\n",
    "Les structures de donnes sont construits a partir des types de base"
   ]
  },
  {
   "cell_type": "markdown",
   "metadata": {},
   "source": [
    "Les structures de donnees en mathematiques: \n",
    "    - matrices, suites, ensemble, groupe , anneaux\n",
    "Les structures de donnees en algorithme (pseudocode):\n",
    "    - file, pile, arbre binaire, tas, tas_max, tas_min, AVL, rouge et noir\n",
    "Les structures de donnees en Python:\n",
    "    - liste\n",
    "    - tuple (couple, triple, n-uple)\n",
    "    - dictionnaire\n",
    "    - chaine de caracteres\n",
    "    - array, matrix, (necessite des packages (bibliotheque) comme Numpy)"
   ]
  },
  {
   "cell_type": "markdown",
   "metadata": {},
   "source": [
    "### Listes Python se comportent à la fois comme un tableau et une liste liée\n",
    "- dans une liste python, la longueur n'est pas définie en avance, et on peut modifier, ajouter ou enlever des elements indéfiniment.\n",
    "- une liste python possède un système d'indice\n",
    "- les listes peuvent contenir n'importe quel autre type"
   ]
  },
  {
   "cell_type": "code",
   "execution_count": 20,
   "metadata": {},
   "outputs": [
    {
     "data": {
      "text/plain": [
       "'alatsinainy'"
      ]
     },
     "execution_count": 20,
     "metadata": {},
     "output_type": "execute_result"
    }
   ],
   "source": [
    "andro = [\"alahady\",\"alatsinainy\",\"talata\",\"alarobia\",\"alakamisy\",\"zoma\",\"sabotsy\"]\n",
    "andro[1]"
   ]
  },
  {
   "cell_type": "code",
   "execution_count": 10,
   "metadata": {},
   "outputs": [],
   "source": [
    "andro2 = andro+[\"zoma\"]  # creer une nouvelle liste a partir de deux listes\n",
    "andro.append(\"zoma\")\n",
    "andro.insert(6,\"sabata\")"
   ]
  },
  {
   "cell_type": "code",
   "execution_count": 11,
   "metadata": {},
   "outputs": [
    {
     "name": "stdout",
     "output_type": "stream",
     "text": [
      "['alahady', 'alatsinainy', 'talata', 'alarobia', 'alakamisy', 56, 'sabata', 'True', False, [2, 1], 'zoma', 'zoma']\n"
     ]
    }
   ],
   "source": [
    "print(andro)"
   ]
  },
  {
   "cell_type": "markdown",
   "metadata": {},
   "source": [
    "### La différence entre une fonction pure et une méthode\n",
    "#### Méthodes sur une liste\n",
    "L.append(), L.insert(), L.pop()\n",
    "#### Fonctions pures\n",
    "len(L), max(L)"
   ]
  },
  {
   "cell_type": "code",
   "execution_count": 21,
   "metadata": {},
   "outputs": [
    {
     "data": {
      "text/plain": [
       "'zoma'"
      ]
     },
     "execution_count": 21,
     "metadata": {},
     "output_type": "execute_result"
    }
   ],
   "source": [
    "andro[0] # head\n",
    "andro[-1] # tail\n",
    "max(andro)"
   ]
  },
  {
   "cell_type": "code",
   "execution_count": 1,
   "metadata": {},
   "outputs": [],
   "source": [
    "# calcule la moyenne des nombres dans une liste de nombres\n",
    "\n",
    "\n",
    "def moyenne(L):\n",
    "    \"\"\"utilise un boucle for sans indice\"\"\"\n",
    "    taille = len(L)\n",
    "    somme = 0\n",
    "    for x in L:\n",
    "        somme = somme+x\n",
    "    moy = somme/taille\n",
    "    return moy\n",
    "\n",
    "def moyenne2(L):\n",
    "    \"\"\"utilise un boucle for sur les indices\"\"\"\n",
    "    taille = len(L)\n",
    "    somme = 0\n",
    "    for i in range(0,taille): # range cree une liste en specifiant les limites\n",
    "        somme = somme + L[i]\n",
    "    moy = somme/taille\n",
    "    return moy"
   ]
  },
  {
   "cell_type": "code",
   "execution_count": 23,
   "metadata": {},
   "outputs": [
    {
     "data": {
      "text/plain": [
       "166.66666666666666"
      ]
     },
     "execution_count": 23,
     "metadata": {},
     "output_type": "execute_result"
    }
   ],
   "source": [
    "moyenne([170,165,155,180,178,152])"
   ]
  },
  {
   "cell_type": "markdown",
   "metadata": {},
   "source": [
    "## Listes de comprehension\n",
    "On peut écrire des listes comme $$ \\left\\lbrace \\frac{1}{x^2} | 1 \\leq x \\leq n \\wedge x\\in \\mathbb{N}\\right\\rbrace$$"
   ]
  },
  {
   "cell_type": "code",
   "execution_count": 27,
   "metadata": {},
   "outputs": [
    {
     "name": "stdout",
     "output_type": "stream",
     "text": [
      "[1.0, 0.25, 0.1111111111111111, 0.0625, 0.04, 0.027777777777777776, 0.02040816326530612, 0.015625, 0.012345679012345678]\n"
     ]
    }
   ],
   "source": [
    "L = [1/x**2 for x in range(1,10)]\n",
    "print(L)"
   ]
  },
  {
   "cell_type": "markdown",
   "metadata": {},
   "source": [
    "## Couples, triples, n-uples\n",
    "Exemples: coordonnées dans $\\mathbb{R}^n$, altitudes, longitude, coordonnées polaires"
   ]
  },
  {
   "cell_type": "code",
   "execution_count": 30,
   "metadata": {},
   "outputs": [
    {
     "data": {
      "text/plain": [
       "4"
      ]
     },
     "execution_count": 30,
     "metadata": {},
     "output_type": "execute_result"
    }
   ],
   "source": [
    "M = (2,4)\n",
    "N = [2,4]\n",
    "M[0]\n",
    "M[1]"
   ]
  },
  {
   "cell_type": "markdown",
   "metadata": {},
   "source": [
    "# déléstage"
   ]
  },
  {
   "cell_type": "code",
   "execution_count": null,
   "metadata": {},
   "outputs": [],
   "source": []
  }
 ],
 "metadata": {
  "kernelspec": {
   "display_name": "Python 3",
   "language": "python",
   "name": "python3"
  },
  "language_info": {
   "codemirror_mode": {
    "name": "ipython",
    "version": 3
   },
   "file_extension": ".py",
   "mimetype": "text/x-python",
   "name": "python",
   "nbconvert_exporter": "python",
   "pygments_lexer": "ipython3",
   "version": "3.7.3"
  }
 },
 "nbformat": 4,
 "nbformat_minor": 2
}
