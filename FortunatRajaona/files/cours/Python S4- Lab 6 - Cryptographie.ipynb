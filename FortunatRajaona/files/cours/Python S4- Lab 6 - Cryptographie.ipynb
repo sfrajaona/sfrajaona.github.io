{
 "cells": [
  {
   "cell_type": "code",
   "execution_count": 8,
   "metadata": {},
   "outputs": [
    {
     "data": {
      "text/plain": [
       "'GTZGTGTGXOBU'"
      ]
     },
     "execution_count": 8,
     "metadata": {},
     "output_type": "execute_result"
    }
   ],
   "source": [
    "Alphabet = [A\",\"B\",\"C\",\"D\",\"E\",\"F\",\"G\",\"H\",\"I\",\"J\",\"K\",\"L\",\"M\",\"N\",\"O\",\"P\",\"Q\",\"R\",\"S\",\"T\",\"U\",\"V\",\"W\",\"X\",\"Y\",\"Z\"]\n",
    "def encoder(cdc, dec): # Cryptage de Cesar\n",
    "    # faire un boucle ici\n",
    "    encodage = \"\"\n",
    "    for c in cdc:\n",
    "        pos = Alphabet.index(c)\n",
    "        pos_nouveau = (pos-dec)%26\n",
    "        encodage = encodage+Alphabet[pos_nouveau]\n",
    "    return encodage\n",
    "\n",
    "TPYHCHHSVOH\n",
    "\n",
    "\n"
   ]
  },
  {
   "cell_type": "code",
   "execution_count": 21,
   "metadata": {},
   "outputs": [],
   "source": [
    "from tkinter import *\n",
    " \n",
    "window = Tk()\n",
    " \n",
    "window.title(\"Encodage apps S4\")\n",
    " \n",
    "window.geometry('350x200')\n",
    " \n",
    "lbl = Label(window, text=\"Top Secret\")\n",
    " \n",
    "lbl.grid(column=0, row=0)\n",
    " \n",
    "txt = Entry(window,width=10)\n",
    " \n",
    "txt.grid(column=1, row=0)\n",
    " \n",
    "def clicked():\n",
    " \n",
    "    res = encoder(txt.get(),-8)\n",
    " \n",
    "    lbl.configure(text= res)\n",
    " \n",
    "btn = Button(window, text=\"Encoder\", command=clicked)\n",
    " \n",
    "btn.grid(column=2, row=0)\n",
    " \n",
    "window.mainloop()"
   ]
  },
  {
   "cell_type": "code",
   "execution_count": null,
   "metadata": {},
   "outputs": [],
   "source": []
  },
  {
   "cell_type": "code",
   "execution_count": null,
   "metadata": {},
   "outputs": [],
   "source": []
  }
 ],
 "metadata": {
  "kernelspec": {
   "display_name": "Python 3",
   "language": "python",
   "name": "python3"
  },
  "language_info": {
   "codemirror_mode": {
    "name": "ipython",
    "version": 3
   },
   "file_extension": ".py",
   "mimetype": "text/x-python",
   "name": "python",
   "nbconvert_exporter": "python",
   "pygments_lexer": "ipython3",
   "version": "3.7.3"
  }
 },
 "nbformat": 4,
 "nbformat_minor": 2
}
