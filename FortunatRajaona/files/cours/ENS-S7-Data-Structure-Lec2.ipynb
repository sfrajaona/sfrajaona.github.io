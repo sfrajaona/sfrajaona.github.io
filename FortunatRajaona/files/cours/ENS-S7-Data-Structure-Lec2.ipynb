{
 "cells": [
  {
   "cell_type": "markdown",
   "metadata": {},
   "source": [
    "## Les classes Python\n",
    "### Implementation d'une Arbre Binaire de recherche\n",
    "**Exercice** Définir une classe `TreeNode` (noeud d'un arbre binaire) qui contient les fonctions (méthodes) `left`, `right`, `value` en utilisant une liste \n"
   ]
  },
  {
   "cell_type": "code",
   "execution_count": 2,
   "metadata": {},
   "outputs": [],
   "source": [
    "class TreeNode:\n",
    "    def __init__(self, L):\n",
    "        self.value = L[0]\n",
    "        self.left = L[1]\n",
    "        self.right = L[2]\n",
    "\n",
    "gamma = TreeNode(['gamma',[],[]])"
   ]
  },
  {
   "cell_type": "markdown",
   "metadata": {},
   "source": [
    "**Exercice** Définir une classe `BinaryTree` utilisant la class `TreeNode`\\"
   ]
  },
  {
   "cell_type": "markdown",
   "metadata": {},
   "source": [
    "Toutes les fonctions utilisées pour les BinaryTree sont défini à l'interieur de la classe BinaryTree"
   ]
  },
  {
   "cell_type": "code",
   "execution_count": 102,
   "metadata": {},
   "outputs": [
    {
     "name": "stdout",
     "output_type": "stream",
     "text": [
      "11\n"
     ]
    }
   ],
   "source": [
    "class TreeNode:\n",
    "    def __init__(self, L):\n",
    "        self.value = L[0]\n",
    "        self.left = L[1]\n",
    "        self.right = L[2]\n",
    "        \n",
    "class BinaryTree:\n",
    "    def __init__(self):\n",
    "        self.root = None\n",
    "        self.size = 0\n",
    "    def size(self):\n",
    "        return self.size\n",
    "    def insert(self, val):\n",
    "        if self.root == None:\n",
    "            self.root = TreeNode([val,None,None])        \n",
    "        else:\n",
    "            self._ajouter(val, self.root)\n",
    "        self.size = self.size + 1\n",
    "    def _ajouter(self,val, current_node):\n",
    "        if val < self.root.value:\n",
    "            if current_node.left != None:\n",
    "                current_node.left._ajouter(val, current_node.left.root)\n",
    "            else:\n",
    "                current_node.left = BinaryTree()\n",
    "                current_node.left.root = TreeNode([val,None,None])\n",
    "        else:\n",
    "            if current_node.right != None:\n",
    "                current_node.right._ajouter(val, current_node.right.root)\n",
    "            else:\n",
    "                current_node.right = BinaryTree()\n",
    "                current_node.right.root = TreeNode([val,None,None])\n",
    "L = [7,3,43,24,23,13,5,6,15,18,22]\n",
    "B = BinaryTree()\n",
    "for i in L:\n",
    "    B.insert(i)\n",
    "print(B.size)"
   ]
  },
  {
   "cell_type": "markdown",
   "metadata": {},
   "source": [
    "**Exercice** Définir une fonction `value` content qui renvoye la valeur de la racine de l'arbre\n",
    "\n",
    "**Exercice** Définir une fonction `search` pour chercher une valeur de l'arbre\n",
    "\n"
   ]
  },
  {
   "cell_type": "markdown",
   "metadata": {},
   "source": [
    "**Exercice** Définir une fonction pour afficher l'arbre"
   ]
  },
  {
   "cell_type": "code",
   "execution_count": 101,
   "metadata": {},
   "outputs": [
    {
     "name": "stdout",
     "output_type": "stream",
     "text": [
      "[7,[3,[],[5,[],[6,[],[]]]],[43,[24,[23,[13,[],[15,[],[18,[],[22,[],[]]]]],[]],[]],[]]]\n"
     ]
    }
   ],
   "source": [
    "class TreeNode:\n",
    "    def __init__(self, L):\n",
    "        self.value = L[0]\n",
    "        self.left = L[1]\n",
    "        self.right = L[2]\n",
    "        \n",
    "class BinaryTree:\n",
    "    def __init__(self):\n",
    "        self.root = None\n",
    "        self.size = 0\n",
    "    def __str__(self):\n",
    "        if self.root.left != None and self.root.right != None:\n",
    "            return '['+str(self.root.value)+','+BinaryTree.__str__(self.root.left)+','+ BinaryTree.__str__(self.root.right)+']'\n",
    "        elif self.root.left == None and self.root.right != None:\n",
    "            return '['+str(self.root.value)+','+'[]'+','+ BinaryTree.__str__(self.root.right)+']'\n",
    "        elif self.root.left != None and self.root.right == None:\n",
    "            return '['+str(self.root.value)+','+BinaryTree.__str__(self.root.left)+','+ '[]' +']'\n",
    "        elif self.root.left == None and self.root.right == None:\n",
    "            return '['+str(self.root.value)+',[],[]]'\n",
    "    def size(self):\n",
    "        return self.size\n",
    "    def insert(self, val):\n",
    "        if self.root == None:\n",
    "            self.root = TreeNode([val,None,None])        \n",
    "        else:\n",
    "            self._ajouter(val, self.root)\n",
    "        self.size = self.size + 1\n",
    "    def _ajouter(self,val, current_node):\n",
    "        if val < self.root.value:\n",
    "            if current_node.left != None:\n",
    "                current_node.left._ajouter(val, current_node.left.root)\n",
    "            else:\n",
    "                current_node.left = BinaryTree()\n",
    "                current_node.left.root = TreeNode([val,None,None])\n",
    "        else:\n",
    "            if current_node.right != None:\n",
    "                current_node.right._ajouter(val, current_node.right.root)\n",
    "            else:\n",
    "                current_node.right = BinaryTree()\n",
    "                current_node.right.root = TreeNode([val,None,None])\n",
    "L = [7,3,43,24,23,13,5,6,15,18,22]\n",
    "B = BinaryTree()\n",
    "for i in L:\n",
    "    B.insert(i)\n",
    "print(B)"
   ]
  },
  {
   "cell_type": "code",
   "execution_count": null,
   "metadata": {},
   "outputs": [],
   "source": []
  }
 ],
 "metadata": {
  "kernelspec": {
   "display_name": "Python 3",
   "language": "python",
   "name": "python3"
  },
  "language_info": {
   "codemirror_mode": {
    "name": "ipython",
    "version": 3
   },
   "file_extension": ".py",
   "mimetype": "text/x-python",
   "name": "python",
   "nbconvert_exporter": "python",
   "pygments_lexer": "ipython3",
   "version": "3.7.0"
  },
  "latex_envs": {
   "LaTeX_envs_menu_present": true,
   "autoclose": false,
   "autocomplete": true,
   "bibliofile": "biblio.bib",
   "cite_by": "apalike",
   "current_citInitial": 1,
   "eqLabelWithNumbers": true,
   "eqNumInitial": 1,
   "hotkeys": {
    "equation": "Ctrl-E",
    "itemize": "Ctrl-I"
   },
   "labels_anchors": false,
   "latex_user_defs": false,
   "report_style_numbering": false,
   "user_envs_cfg": false
  },
  "toc": {
   "base_numbering": 1,
   "nav_menu": {},
   "number_sections": true,
   "sideBar": true,
   "skip_h1_title": false,
   "title_cell": "Table of Contents",
   "title_sidebar": "Contents",
   "toc_cell": false,
   "toc_position": {},
   "toc_section_display": true,
   "toc_window_display": false
  }
 },
 "nbformat": 4,
 "nbformat_minor": 2
}
